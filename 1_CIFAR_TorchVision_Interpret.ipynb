{
 "cells": [
  {
   "cell_type": "markdown",
   "metadata": {
    "id": "DIP6eQVnc7La"
   },
   "source": [
    "# Showcases integrated gradients on CIFAR10 dataset"
   ]
  },
  {
   "cell_type": "markdown",
   "metadata": {
    "id": "H6D7Mqbdc7Ld"
   },
   "source": [
    "This tutorial demonstrates how to apply model interpretability algorithms from Captum library on a simple model and test samples from CIFAR dataset.\n",
    "\n",
    "In this tutorial we build a simple model as described in:\n",
    "https://pytorch.org/tutorials/beginner/blitz/cifar10_tutorial.html#sphx-glr-beginner-blitz-cifar10-tutorial-py\n",
    "\n",
    "Then we use attribution algorithms such as `IntegratedGradients`, `Saliency`, `DeepLift` and `NoiseTunnel` to attribute the label of the image to the input pixels and visualize it.\n",
    "  \n",
    "  **Note:** Before running this tutorial, please install the torchvision, and matplotlib packages."
   ]
  },
  {
   "cell_type": "code",
   "execution_count": 1,
   "metadata": {
    "colab": {
     "base_uri": "https://localhost:8080/"
    },
    "executionInfo": {
     "elapsed": 5399,
     "status": "ok",
     "timestamp": 1615218276095,
     "user": {
      "displayName": "Aditya Balu",
      "photoUrl": "",
      "userId": "00240964590008989444"
     },
     "user_tz": 360
    },
    "id": "KUZnx8wmdFdk",
    "outputId": "6902746b-215c-4f95-bff3-81833b118819"
   },
   "outputs": [
    {
     "name": "stdout",
     "output_type": "stream",
     "text": [
      "Collecting captum\n",
      "  Downloading captum-0.7.0-py3-none-any.whl.metadata (26 kB)\n",
      "Requirement already satisfied: matplotlib in /home/exouser/.conda/envs/my5920_env/lib/python3.10/site-packages (from captum) (3.10.0)\n",
      "Requirement already satisfied: numpy in /home/exouser/.conda/envs/my5920_env/lib/python3.10/site-packages (from captum) (2.2.2)\n",
      "Requirement already satisfied: torch>=1.6 in /home/exouser/.conda/envs/my5920_env/lib/python3.10/site-packages (from captum) (2.6.0)\n",
      "Requirement already satisfied: tqdm in /home/exouser/.conda/envs/my5920_env/lib/python3.10/site-packages (from captum) (4.67.1)\n",
      "Requirement already satisfied: filelock in /home/exouser/.conda/envs/my5920_env/lib/python3.10/site-packages (from torch>=1.6->captum) (3.17.0)\n",
      "Requirement already satisfied: typing-extensions>=4.10.0 in /home/exouser/.conda/envs/my5920_env/lib/python3.10/site-packages (from torch>=1.6->captum) (4.12.2)\n",
      "Requirement already satisfied: networkx in /home/exouser/.conda/envs/my5920_env/lib/python3.10/site-packages (from torch>=1.6->captum) (3.4.2)\n",
      "Requirement already satisfied: jinja2 in /home/exouser/.conda/envs/my5920_env/lib/python3.10/site-packages (from torch>=1.6->captum) (3.1.5)\n",
      "Requirement already satisfied: fsspec in /home/exouser/.conda/envs/my5920_env/lib/python3.10/site-packages (from torch>=1.6->captum) (2025.2.0)\n",
      "Requirement already satisfied: nvidia-cuda-nvrtc-cu12==12.4.127 in /home/exouser/.conda/envs/my5920_env/lib/python3.10/site-packages (from torch>=1.6->captum) (12.4.127)\n",
      "Requirement already satisfied: nvidia-cuda-runtime-cu12==12.4.127 in /home/exouser/.conda/envs/my5920_env/lib/python3.10/site-packages (from torch>=1.6->captum) (12.4.127)\n",
      "Requirement already satisfied: nvidia-cuda-cupti-cu12==12.4.127 in /home/exouser/.conda/envs/my5920_env/lib/python3.10/site-packages (from torch>=1.6->captum) (12.4.127)\n",
      "Requirement already satisfied: nvidia-cudnn-cu12==9.1.0.70 in /home/exouser/.conda/envs/my5920_env/lib/python3.10/site-packages (from torch>=1.6->captum) (9.1.0.70)\n",
      "Requirement already satisfied: nvidia-cublas-cu12==12.4.5.8 in /home/exouser/.conda/envs/my5920_env/lib/python3.10/site-packages (from torch>=1.6->captum) (12.4.5.8)\n",
      "Requirement already satisfied: nvidia-cufft-cu12==11.2.1.3 in /home/exouser/.conda/envs/my5920_env/lib/python3.10/site-packages (from torch>=1.6->captum) (11.2.1.3)\n",
      "Requirement already satisfied: nvidia-curand-cu12==10.3.5.147 in /home/exouser/.conda/envs/my5920_env/lib/python3.10/site-packages (from torch>=1.6->captum) (10.3.5.147)\n",
      "Requirement already satisfied: nvidia-cusolver-cu12==11.6.1.9 in /home/exouser/.conda/envs/my5920_env/lib/python3.10/site-packages (from torch>=1.6->captum) (11.6.1.9)\n",
      "Requirement already satisfied: nvidia-cusparse-cu12==12.3.1.170 in /home/exouser/.conda/envs/my5920_env/lib/python3.10/site-packages (from torch>=1.6->captum) (12.3.1.170)\n",
      "Requirement already satisfied: nvidia-cusparselt-cu12==0.6.2 in /home/exouser/.conda/envs/my5920_env/lib/python3.10/site-packages (from torch>=1.6->captum) (0.6.2)\n",
      "Requirement already satisfied: nvidia-nccl-cu12==2.21.5 in /home/exouser/.conda/envs/my5920_env/lib/python3.10/site-packages (from torch>=1.6->captum) (2.21.5)\n",
      "Requirement already satisfied: nvidia-nvtx-cu12==12.4.127 in /home/exouser/.conda/envs/my5920_env/lib/python3.10/site-packages (from torch>=1.6->captum) (12.4.127)\n",
      "Requirement already satisfied: nvidia-nvjitlink-cu12==12.4.127 in /home/exouser/.conda/envs/my5920_env/lib/python3.10/site-packages (from torch>=1.6->captum) (12.4.127)\n",
      "Requirement already satisfied: triton==3.2.0 in /home/exouser/.conda/envs/my5920_env/lib/python3.10/site-packages (from torch>=1.6->captum) (3.2.0)\n",
      "Requirement already satisfied: sympy==1.13.1 in /home/exouser/.conda/envs/my5920_env/lib/python3.10/site-packages (from torch>=1.6->captum) (1.13.1)\n",
      "Requirement already satisfied: mpmath<1.4,>=1.1.0 in /home/exouser/.conda/envs/my5920_env/lib/python3.10/site-packages (from sympy==1.13.1->torch>=1.6->captum) (1.3.0)\n",
      "Requirement already satisfied: contourpy>=1.0.1 in /home/exouser/.conda/envs/my5920_env/lib/python3.10/site-packages (from matplotlib->captum) (1.3.1)\n",
      "Requirement already satisfied: cycler>=0.10 in /home/exouser/.conda/envs/my5920_env/lib/python3.10/site-packages (from matplotlib->captum) (0.12.1)\n",
      "Requirement already satisfied: fonttools>=4.22.0 in /home/exouser/.conda/envs/my5920_env/lib/python3.10/site-packages (from matplotlib->captum) (4.55.8)\n",
      "Requirement already satisfied: kiwisolver>=1.3.1 in /home/exouser/.conda/envs/my5920_env/lib/python3.10/site-packages (from matplotlib->captum) (1.4.8)\n",
      "Requirement already satisfied: packaging>=20.0 in /home/exouser/.conda/envs/my5920_env/lib/python3.10/site-packages (from matplotlib->captum) (24.2)\n",
      "Requirement already satisfied: pillow>=8 in /home/exouser/.conda/envs/my5920_env/lib/python3.10/site-packages (from matplotlib->captum) (11.1.0)\n",
      "Requirement already satisfied: pyparsing>=2.3.1 in /home/exouser/.conda/envs/my5920_env/lib/python3.10/site-packages (from matplotlib->captum) (3.2.1)\n",
      "Requirement already satisfied: python-dateutil>=2.7 in /home/exouser/.conda/envs/my5920_env/lib/python3.10/site-packages (from matplotlib->captum) (2.9.0.post0)\n",
      "Requirement already satisfied: six>=1.5 in /home/exouser/.conda/envs/my5920_env/lib/python3.10/site-packages (from python-dateutil>=2.7->matplotlib->captum) (1.16.0)\n",
      "Requirement already satisfied: MarkupSafe>=2.0 in /home/exouser/.conda/envs/my5920_env/lib/python3.10/site-packages (from jinja2->torch>=1.6->captum) (3.0.2)\n",
      "Downloading captum-0.7.0-py3-none-any.whl (1.3 MB)\n",
      "\u001b[2K   \u001b[38;2;114;156;31m━━━━━━━━━━━━━━━━━━━━━━━━━━━━━━━━━━━━━━━━\u001b[0m \u001b[32m1.3/1.3 MB\u001b[0m \u001b[31m43.2 MB/s\u001b[0m eta \u001b[36m0:00:00\u001b[0m\n",
      "Installing collected packages: captum\n",
      "Successfully installed captum-0.7.0\n"
     ]
    }
   ],
   "source": [
    "!pip install captum\r\n"
   ]
  },
  {
   "cell_type": "code",
   "execution_count": 2,
   "metadata": {
    "executionInfo": {
     "elapsed": 3138,
     "status": "ok",
     "timestamp": 1615218288532,
     "user": {
      "displayName": "Aditya Balu",
      "photoUrl": "",
      "userId": "00240964590008989444"
     },
     "user_tz": 360
    },
    "id": "WnIJAObnc7Le"
   },
   "outputs": [
    {
     "name": "stderr",
     "output_type": "stream",
     "text": [
      "/home/exouser/.conda/envs/my5920_env/lib/python3.10/site-packages/tqdm/auto.py:21: TqdmWarning: IProgress not found. Please update jupyter and ipywidgets. See https://ipywidgets.readthedocs.io/en/stable/user_install.html\n",
      "  from .autonotebook import tqdm as notebook_tqdm\n"
     ]
    }
   ],
   "source": [
    "import matplotlib.pyplot as plt\n",
    "import numpy as np\n",
    "\n",
    "%matplotlib inline\n",
    "\n",
    "import torch\n",
    "import torchvision\n",
    "import torchvision.transforms as transforms\n",
    "import torchvision.transforms.functional as TF\n",
    "\n",
    "from torchvision import models\n",
    "\n",
    "from captum.attr import Saliency\n",
    "from captum.attr import visualization as viz"
   ]
  },
  {
   "cell_type": "markdown",
   "metadata": {
    "id": "L-CY_3aMc7Lf"
   },
   "source": [
    "In the cell below we load test and train datasets, define image transformers and supported classification label classes."
   ]
  },
  {
   "cell_type": "code",
   "execution_count": 3,
   "metadata": {
    "colab": {
     "base_uri": "https://localhost:8080/",
     "height": 100,
     "referenced_widgets": [
      "0ed73d49c9924c55924a58b3b1b17d23",
      "e4c6a1b706da469d889259009349ec8c",
      "324adf77d62a40d0a7c5fb7853feb432",
      "482990a4a45c4ac1a42655b55e1109b9",
      "1cacc0afb6f94aabaab1229fcfb2d69e",
      "fea027a988804c7082d2d6f09bc044cf",
      "8d99dfc6f10a4860adf0904366114e1a",
      "bd680caf30034515b218bc0bdcb2a5c8"
     ]
    },
    "executionInfo": {
     "elapsed": 6673,
     "status": "ok",
     "timestamp": 1615218300565,
     "user": {
      "displayName": "Aditya Balu",
      "photoUrl": "",
      "userId": "00240964590008989444"
     },
     "user_tz": 360
    },
    "id": "kh1OIhilc7Lf",
    "outputId": "d1d35be2-3dd6-4856-e855-6e14bb7c2b6c"
   },
   "outputs": [],
   "source": [
    "transform = transforms.Compose(\n",
    "    [transforms.ToTensor(),\n",
    "     transforms.Normalize((0.5, 0.5, 0.5), (0.5, 0.5, 0.5))])\n",
    "\n",
    "trainset = torchvision.datasets.CIFAR10(root='./data', train=True,\n",
    "                                        download=True, transform=transform)\n",
    "trainloader = torch.utils.data.DataLoader(trainset, batch_size=4,\n",
    "                                          shuffle=True, num_workers=0)\n",
    "\n",
    "testset = torchvision.datasets.CIFAR10(root='./data', train=False,\n",
    "                                       download=True, transform=transform)\n",
    "testloader = torch.utils.data.DataLoader(testset, batch_size=4,\n",
    "                                         shuffle=False, num_workers=0)\n",
    "\n",
    "classes = ('plane', 'car', 'bird', 'cat',\n",
    "           'deer', 'dog', 'frog', 'horse', 'ship', 'truck')\n"
   ]
  },
  {
   "cell_type": "markdown",
   "metadata": {
    "id": "kEg8Ky35c7Lh"
   },
   "source": [
    "We define a classification network based on the architecture proposed in the following tutorial:\n",
    "https://pytorch.org/tutorials/beginner/blitz/cifar10_tutorial.html#sphx-glr-beginner-blitz-cifar10-tutorial-py"
   ]
  },
  {
   "cell_type": "code",
   "execution_count": 4,
   "metadata": {
    "executionInfo": {
     "elapsed": 302,
     "status": "ok",
     "timestamp": 1615218301427,
     "user": {
      "displayName": "Aditya Balu",
      "photoUrl": "",
      "userId": "00240964590008989444"
     },
     "user_tz": 360
    },
    "id": "5zJ8tSwZc7Li"
   },
   "outputs": [],
   "source": [
    "import torch.nn as nn\n",
    "import torch.nn.functional as F\n",
    "\n",
    "\n",
    "class Net(nn.Module):\n",
    "    def __init__(self):\n",
    "        super(Net, self).__init__()\n",
    "        self.conv1 = nn.Conv2d(3, 6, 5)\n",
    "        self.pool1 = nn.MaxPool2d(2, 2)\n",
    "        self.pool2 = nn.MaxPool2d(2, 2)\n",
    "        self.conv2 = nn.Conv2d(6, 16, 5)\n",
    "        self.fc1 = nn.Linear(16 * 5 * 5, 120)\n",
    "        self.fc2 = nn.Linear(120, 84)\n",
    "        self.fc3 = nn.Linear(84, 10)\n",
    "        self.relu1 = nn.ReLU()\n",
    "        self.relu2 = nn.ReLU()\n",
    "        self.relu3 = nn.ReLU()\n",
    "        self.relu4 = nn.ReLU()\n",
    "\n",
    "    def forward(self, x):\n",
    "        x = self.pool1(self.relu1(self.conv1(x)))\n",
    "        x = self.pool2(self.relu2(self.conv2(x)))\n",
    "        x = x.view(-1, 16 * 5 * 5)\n",
    "        x = self.relu3(self.fc1(x))\n",
    "        x = self.relu4(self.fc2(x))\n",
    "        x = self.fc3(x)\n",
    "        return x\n",
    "\n",
    "\n",
    "net = Net()"
   ]
  },
  {
   "cell_type": "code",
   "execution_count": 5,
   "metadata": {
    "executionInfo": {
     "elapsed": 264,
     "status": "ok",
     "timestamp": 1615218304252,
     "user": {
      "displayName": "Aditya Balu",
      "photoUrl": "",
      "userId": "00240964590008989444"
     },
     "user_tz": 360
    },
    "id": "TFLAs9w1c7Li"
   },
   "outputs": [],
   "source": [
    "import torch.optim as optim\n",
    "\n",
    "criterion = nn.CrossEntropyLoss()\n",
    "optimizer = optim.SGD(net.parameters(), lr=0.001, momentum=0.9)\n"
   ]
  },
  {
   "cell_type": "code",
   "execution_count": 6,
   "metadata": {
    "colab": {
     "base_uri": "https://localhost:8080/",
     "height": 629
    },
    "executionInfo": {
     "elapsed": 210059,
     "status": "error",
     "timestamp": 1615218521546,
     "user": {
      "displayName": "Aditya Balu",
      "photoUrl": "",
      "userId": "00240964590008989444"
     },
     "user_tz": 360
    },
    "id": "AnEPqRY3c7Lj",
    "outputId": "de7c7e2c-e0b6-40a1-cc53-4fca5b39f594"
   },
   "outputs": [
    {
     "name": "stdout",
     "output_type": "stream",
     "text": [
      "[1,  2000] loss: 2.284\n",
      "[1,  4000] loss: 1.930\n",
      "[1,  6000] loss: 1.714\n",
      "[1,  8000] loss: 1.597\n",
      "[1, 10000] loss: 1.541\n",
      "[1, 12000] loss: 1.468\n",
      "[2,  2000] loss: 1.428\n",
      "[2,  4000] loss: 1.368\n",
      "[2,  6000] loss: 1.360\n",
      "[2,  8000] loss: 1.331\n",
      "[2, 10000] loss: 1.291\n",
      "[2, 12000] loss: 1.293\n",
      "[3,  2000] loss: 1.216\n",
      "[3,  4000] loss: 1.208\n",
      "[3,  6000] loss: 1.219\n",
      "[3,  8000] loss: 1.193\n",
      "[3, 10000] loss: 1.185\n",
      "[3, 12000] loss: 1.170\n",
      "[4,  2000] loss: 1.118\n",
      "[4,  4000] loss: 1.121\n",
      "[4,  6000] loss: 1.099\n",
      "[4,  8000] loss: 1.091\n",
      "[4, 10000] loss: 1.108\n",
      "[4, 12000] loss: 1.072\n",
      "[5,  2000] loss: 1.009\n",
      "[5,  4000] loss: 1.019\n",
      "[5,  6000] loss: 1.022\n",
      "[5,  8000] loss: 1.034\n",
      "[5, 10000] loss: 1.044\n",
      "[5, 12000] loss: 1.052\n",
      "Finished Training\n"
     ]
    }
   ],
   "source": [
    "for epoch in range(5):  # loop over the dataset multiple times\n",
    "\n",
    "    running_loss = 0.0\n",
    "    for i, data in enumerate(trainloader, 0):\n",
    "        # get the inputs\n",
    "        inputs, labels = data\n",
    "        # zero the parameter gradients\n",
    "        optimizer.zero_grad()\n",
    "\n",
    "        # forward + backward + optimize\n",
    "        outputs = net(inputs)\n",
    "        loss = criterion(outputs, labels)\n",
    "        loss.backward()\n",
    "        optimizer.step()\n",
    "\n",
    "        # print statistics\n",
    "        running_loss += loss.item()\n",
    "        if i % 2000 == 1999:    # print every 2000 mini-batches\n",
    "            print('[%d, %5d] loss: %.3f' %\n",
    "                  (epoch + 1, i + 1, running_loss / 2000))\n",
    "            running_loss = 0.0\n",
    "\n",
    "print('Finished Training')\n",
    "torch.save(net.state_dict(), 'cifar_torchvision.pt')"
   ]
  },
  {
   "cell_type": "markdown",
   "metadata": {
    "id": "jQq1bhB3c7Lk"
   },
   "source": [
    "In the cell below we load some images from the test dataset and perform predictions."
   ]
  },
  {
   "cell_type": "code",
   "execution_count": 9,
   "metadata": {
    "colab": {
     "base_uri": "https://localhost:8080/",
     "height": 172
    },
    "executionInfo": {
     "elapsed": 622,
     "status": "ok",
     "timestamp": 1615218528907,
     "user": {
      "displayName": "Aditya Balu",
      "photoUrl": "",
      "userId": "00240964590008989444"
     },
     "user_tz": 360
    },
    "id": "PQM4Kl8ic7Ll",
    "outputId": "466078d0-41f1-4343-cd2d-627922309acf"
   },
   "outputs": [
    {
     "data": {
      "image/png": "[encoded data removed]",
      "text/plain": [
       "<Figure size 640x480 with 1 Axes>"
      ]
     },
     "metadata": {},
     "output_type": "display_data"
    },
    {
     "name": "stdout",
     "output_type": "stream",
     "text": [
      "GroundTruth:    cat  ship  ship plane\n",
      "Predicted:    cat  ship plane plane\n"
     ]
    }
   ],
   "source": [
    "\n",
    "def imshow(img, transpose = True):\n",
    "    img = img / 2 + 0.5     # unnormalize\n",
    "    npimg = img.numpy()\n",
    "    plt.imshow(np.transpose(npimg, (1, 2, 0)))\n",
    "    plt.show()\n",
    "\n",
    "dataiter = iter(testloader)\n",
    "images, labels = next(dataiter)\n",
    "\n",
    "\n",
    "# print images\n",
    "imshow(torchvision.utils.make_grid(images))\n",
    "print('GroundTruth: ', ' '.join('%5s' % classes[labels[j]] for j in range(4)))\n",
    "\n",
    "\n",
    "outputs = net(images)\n",
    "\n",
    "_, predicted = torch.max(outputs, 1)\n",
    "\n",
    "print('Predicted: ', ' '.join('%5s' % classes[predicted[j]]\n",
    "                              for j in range(4)))"
   ]
  },
  {
   "cell_type": "markdown",
   "metadata": {
    "id": "g_9i-h4Gc7Lm"
   },
   "source": [
    "Let's choose a test image at index `ind` and apply some of our attribution algorithms on it."
   ]
  },
  {
   "cell_type": "code",
   "execution_count": 10,
   "metadata": {
    "executionInfo": {
     "elapsed": 375,
     "status": "ok",
     "timestamp": 1615218550550,
     "user": {
      "displayName": "Aditya Balu",
      "photoUrl": "",
      "userId": "00240964590008989444"
     },
     "user_tz": 360
    },
    "id": "-sPKwu6Bc7Lm"
   },
   "outputs": [],
   "source": [
    "ind = 1\n",
    "\n",
    "input = images[ind].unsqueeze(0)\n",
    "input.requires_grad = True"
   ]
  },
  {
   "cell_type": "markdown",
   "metadata": {
    "id": "FxY0g6YFc7Ln"
   },
   "source": [
    "Sets model to eval mode for interpretation purposes"
   ]
  },
  {
   "cell_type": "code",
   "execution_count": 11,
   "metadata": {
    "colab": {
     "base_uri": "https://localhost:8080/"
    },
    "executionInfo": {
     "elapsed": 257,
     "status": "ok",
     "timestamp": 1615218558315,
     "user": {
      "displayName": "Aditya Balu",
      "photoUrl": "",
      "userId": "00240964590008989444"
     },
     "user_tz": 360
    },
    "id": "5PAjHOPRc7Ln",
    "outputId": "2f05da38-4247-45ad-d799-233c58d09c2c"
   },
   "outputs": [
    {
     "data": {
      "text/plain": [
       "Net(\n",
       "  (conv1): Conv2d(3, 6, kernel_size=(5, 5), stride=(1, 1))\n",
       "  (pool1): MaxPool2d(kernel_size=2, stride=2, padding=0, dilation=1, ceil_mode=False)\n",
       "  (pool2): MaxPool2d(kernel_size=2, stride=2, padding=0, dilation=1, ceil_mode=False)\n",
       "  (conv2): Conv2d(6, 16, kernel_size=(5, 5), stride=(1, 1))\n",
       "  (fc1): Linear(in_features=400, out_features=120, bias=True)\n",
       "  (fc2): Linear(in_features=120, out_features=84, bias=True)\n",
       "  (fc3): Linear(in_features=84, out_features=10, bias=True)\n",
       "  (relu1): ReLU()\n",
       "  (relu2): ReLU()\n",
       "  (relu3): ReLU()\n",
       "  (relu4): ReLU()\n",
       ")"
      ]
     },
     "execution_count": 11,
     "metadata": {},
     "output_type": "execute_result"
    }
   ],
   "source": [
    "net.eval()"
   ]
  },
  {
   "cell_type": "markdown",
   "metadata": {
    "id": "_G0CZHKSc7Lo"
   },
   "source": [
    "Computes gradients with respect to class `ind` and transposes them for visualization purposes."
   ]
  },
  {
   "cell_type": "code",
   "execution_count": 12,
   "metadata": {
    "executionInfo": {
     "elapsed": 285,
     "status": "ok",
     "timestamp": 1615218700636,
     "user": {
      "displayName": "Aditya Balu",
      "photoUrl": "",
      "userId": "00240964590008989444"
     },
     "user_tz": 360
    },
    "id": "odmWFPv5c7Lo"
   },
   "outputs": [],
   "source": [
    "saliency = Saliency(net)\n",
    "grads = saliency.attribute(input, target=labels[ind].item())\n",
    "grads = np.transpose(grads.squeeze().cpu().detach().numpy(), (1, 2, 0))"
   ]
  },
  {
   "cell_type": "markdown",
   "metadata": {
    "id": "gQvlnewxc7Lr"
   },
   "source": [
    "In the cell below we will visualize the attributions for `Saliency Maps`, `DeepLift`, `Integrated Gradients` and `Integrated Gradients with SmoothGrad`."
   ]
  },
  {
   "cell_type": "code",
   "execution_count": 13,
   "metadata": {
    "colab": {
     "base_uri": "https://localhost:8080/",
     "height": 780
    },
    "executionInfo": {
     "elapsed": 869,
     "status": "ok",
     "timestamp": 1615218704069,
     "user": {
      "displayName": "Aditya Balu",
      "photoUrl": "",
      "userId": "00240964590008989444"
     },
     "user_tz": 360
    },
    "id": "OUT2vDeLc7Lr",
    "outputId": "21149766-de85-4955-8a09-1180b732f020"
   },
   "outputs": [
    {
     "name": "stdout",
     "output_type": "stream",
     "text": [
      "Original Image\n",
      "Predicted: ship  Probability: 0.6924102902412415\n"
     ]
    },
    {
     "data": {
      "image/png": "[encoded data removed]",
      "text/plain": [
       "<Figure size 600x600 with 1 Axes>"
      ]
     },
     "metadata": {},
     "output_type": "display_data"
    },
    {
     "data": {
      "image/png": "[encoded data removed]",
      "text/plain": [
       "<Figure size 600x600 with 2 Axes>"
      ]
     },
     "metadata": {},
     "output_type": "display_data"
    }
   ],
   "source": [
    "print('Original Image')\n",
    "print('Predicted:', classes[predicted[ind]], \n",
    "      ' Probability:', torch.max(F.softmax(outputs, 1)).item())\n",
    "\n",
    "original_image = np.transpose((images[ind].cpu().detach().numpy() / 2) + 0.5, (1, 2, 0))\n",
    "\n",
    "_ = viz.visualize_image_attr(None, original_image, \n",
    "                      method=\"original_image\", title=\"Original Image\")\n",
    "\n",
    "_ = viz.visualize_image_attr(grads, original_image, method=\"blended_heat_map\", sign=\"absolute_value\",\n",
    "                          show_colorbar=True, title=\"Overlayed Gradient Magnitudes\")\n",
    "\n"
   ]
  },
  {
   "cell_type": "code",
   "execution_count": null,
   "metadata": {
    "id": "jLZwocfHmX7j"
   },
   "outputs": [],
   "source": []
  },
  {
   "cell_type": "code",
   "execution_count": null,
   "metadata": {},
   "outputs": [],
   "source": []
  }
 ],
 "metadata": {
  "colab": {
   "collapsed_sections": [],
   "name": "CIFAR_TorchVision_Interpret.ipynb",
   "provenance": []
  },
  "kernelspec": {
   "display_name": "Python 3 (ipykernel)",
   "language": "python",
   "name": "python3"
  },
  "language_info": {
   "codemirror_mode": {
    "name": "ipython",
    "version": 3
   },
   "file_extension": ".py",
   "mimetype": "text/x-python",
   "name": "python",
   "nbconvert_exporter": "python",
   "pygments_lexer": "ipython3",
   "version": "3.10.16"
  },
  "widgets": {
   "application/vnd.jupyter.widget-state+json": {
    "0ed73d49c9924c55924a58b3b1b17d23": {
     "model_module": "@jupyter-widgets/controls",
     "model_name": "HBoxModel",
     "state": {
      "_dom_classes": [],
      "_model_module": "@jupyter-widgets/controls",
      "_model_module_version": "1.5.0",
      "_model_name": "HBoxModel",
      "_view_count": null,
      "_view_module": "@jupyter-widgets/controls",
      "_view_module_version": "1.5.0",
      "_view_name": "HBoxView",
      "box_style": "",
      "children": [
       "IPY_MODEL_324adf77d62a40d0a7c5fb7853feb432",
       "IPY_MODEL_482990a4a45c4ac1a42655b55e1109b9"
      ],
      "layout": "IPY_MODEL_e4c6a1b706da469d889259009349ec8c"
     }
    },
    "1cacc0afb6f94aabaab1229fcfb2d69e": {
     "model_module": "@jupyter-widgets/controls",
     "model_name": "ProgressStyleModel",
     "state": {
      "_model_module": "@jupyter-widgets/controls",
      "_model_module_version": "1.5.0",
      "_model_name": "ProgressStyleModel",
      "_view_count": null,
      "_view_module": "@jupyter-widgets/base",
      "_view_module_version": "1.2.0",
      "_view_name": "StyleView",
      "bar_color": null,
      "description_width": "initial"
     }
    },
    "324adf77d62a40d0a7c5fb7853feb432": {
     "model_module": "@jupyter-widgets/controls",
     "model_name": "FloatProgressModel",
     "state": {
      "_dom_classes": [],
      "_model_module": "@jupyter-widgets/controls",
      "_model_module_version": "1.5.0",
      "_model_name": "FloatProgressModel",
      "_view_count": null,
      "_view_module": "@jupyter-widgets/controls",
      "_view_module_version": "1.5.0",
      "_view_name": "ProgressView",
      "bar_style": "info",
      "description": "",
      "description_tooltip": null,
      "layout": "IPY_MODEL_fea027a988804c7082d2d6f09bc044cf",
      "max": 1,
      "min": 0,
      "orientation": "horizontal",
      "style": "IPY_MODEL_1cacc0afb6f94aabaab1229fcfb2d69e",
      "value": 1
     }
    },
    "482990a4a45c4ac1a42655b55e1109b9": {
     "model_module": "@jupyter-widgets/controls",
     "model_name": "HTMLModel",
     "state": {
      "_dom_classes": [],
      "_model_module": "@jupyter-widgets/controls",
      "_model_module_version": "1.5.0",
      "_model_name": "HTMLModel",
      "_view_count": null,
      "_view_module": "@jupyter-widgets/controls",
      "_view_module_version": "1.5.0",
      "_view_name": "HTMLView",
      "description": "",
      "description_tooltip": null,
      "layout": "IPY_MODEL_bd680caf30034515b218bc0bdcb2a5c8",
      "placeholder": "​",
      "style": "IPY_MODEL_8d99dfc6f10a4860adf0904366114e1a",
      "value": " 170500096/? [00:19&lt;00:00, 82598042.85it/s]"
     }
    },
    "8d99dfc6f10a4860adf0904366114e1a": {
     "model_module": "@jupyter-widgets/controls",
     "model_name": "DescriptionStyleModel",
     "state": {
      "_model_module": "@jupyter-widgets/controls",
      "_model_module_version": "1.5.0",
      "_model_name": "DescriptionStyleModel",
      "_view_count": null,
      "_view_module": "@jupyter-widgets/base",
      "_view_module_version": "1.2.0",
      "_view_name": "StyleView",
      "description_width": ""
     }
    },
    "bd680caf30034515b218bc0bdcb2a5c8": {
     "model_module": "@jupyter-widgets/base",
     "model_name": "LayoutModel",
     "state": {
      "_model_module": "@jupyter-widgets/base",
      "_model_module_version": "1.2.0",
      "_model_name": "LayoutModel",
      "_view_count": null,
      "_view_module": "@jupyter-widgets/base",
      "_view_module_version": "1.2.0",
      "_view_name": "LayoutView",
      "align_content": null,
      "align_items": null,
      "align_self": null,
      "border": null,
      "bottom": null,
      "display": null,
      "flex": null,
      "flex_flow": null,
      "grid_area": null,
      "grid_auto_columns": null,
      "grid_auto_flow": null,
      "grid_auto_rows": null,
      "grid_column": null,
      "grid_gap": null,
      "grid_row": null,
      "grid_template_areas": null,
      "grid_template_columns": null,
      "grid_template_rows": null,
      "height": null,
      "justify_content": null,
      "justify_items": null,
      "left": null,
      "margin": null,
      "max_height": null,
      "max_width": null,
      "min_height": null,
      "min_width": null,
      "object_fit": null,
      "object_position": null,
      "order": null,
      "overflow": null,
      "overflow_x": null,
      "overflow_y": null,
      "padding": null,
      "right": null,
      "top": null,
      "visibility": null,
      "width": null
     }
    },
    "e4c6a1b706da469d889259009349ec8c": {
     "model_module": "@jupyter-widgets/base",
     "model_name": "LayoutModel",
     "state": {
      "_model_module": "@jupyter-widgets/base",
      "_model_module_version": "1.2.0",
      "_model_name": "LayoutModel",
      "_view_count": null,
      "_view_module": "@jupyter-widgets/base",
      "_view_module_version": "1.2.0",
      "_view_name": "LayoutView",
      "align_content": null,
      "align_items": null,
      "align_self": null,
      "border": null,
      "bottom": null,
      "display": null,
      "flex": null,
      "flex_flow": null,
      "grid_area": null,
      "grid_auto_columns": null,
      "grid_auto_flow": null,
      "grid_auto_rows": null,
      "grid_column": null,
      "grid_gap": null,
      "grid_row": null,
      "grid_template_areas": null,
      "grid_template_columns": null,
      "grid_template_rows": null,
      "height": null,
      "justify_content": null,
      "justify_items": null,
      "left": null,
      "margin": null,
      "max_height": null,
      "max_width": null,
      "min_height": null,
      "min_width": null,
      "object_fit": null,
      "object_position": null,
      "order": null,
      "overflow": null,
      "overflow_x": null,
      "overflow_y": null,
      "padding": null,
      "right": null,
      "top": null,
      "visibility": null,
      "width": null
     }
    },
    "fea027a988804c7082d2d6f09bc044cf": {
     "model_module": "@jupyter-widgets/base",
     "model_name": "LayoutModel",
     "state": {
      "_model_module": "@jupyter-widgets/base",
      "_model_module_version": "1.2.0",
      "_model_name": "LayoutModel",
      "_view_count": null,
      "_view_module": "@jupyter-widgets/base",
      "_view_module_version": "1.2.0",
      "_view_name": "LayoutView",
      "align_content": null,
      "align_items": null,
      "align_self": null,
      "border": null,
      "bottom": null,
      "display": null,
      "flex": null,
      "flex_flow": null,
      "grid_area": null,
      "grid_auto_columns": null,
      "grid_auto_flow": null,
      "grid_auto_rows": null,
      "grid_column": null,
      "grid_gap": null,
      "grid_row": null,
      "grid_template_areas": null,
      "grid_template_columns": null,
      "grid_template_rows": null,
      "height": null,
      "justify_content": null,
      "justify_items": null,
      "left": null,
      "margin": null,
      "max_height": null,
      "max_width": null,
      "min_height": null,
      "min_width": null,
      "object_fit": null,
      "object_position": null,
      "order": null,
      "overflow": null,
      "overflow_x": null,
      "overflow_y": null,
      "padding": null,
      "right": null,
      "top": null,
      "visibility": null,
      "width": null
     }
    }
   }
  }
 },
 "nbformat": 4,
 "nbformat_minor": 4
}
